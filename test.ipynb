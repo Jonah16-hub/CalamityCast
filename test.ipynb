{
 "cells": [
  {
   "cell_type": "code",
<<<<<<< Updated upstream
=======
   "execution_count": 1,
   "metadata": {},
   "outputs": [],
   "source": [
    "#API meteofrance token : eyJ4NXQiOiJZV0kxTTJZNE1qWTNOemsyTkRZeU5XTTRPV014TXpjek1UVmhNbU14T1RSa09ETXlOVEE0Tnc9PSIsImtpZCI6ImdhdGV3YXlfY2VydGlmaWNhdGVfYWxpYXMiLCJ0eXAiOiJKV1QiLCJhbGciOiJSUzI1NiJ9.eyJzdWIiOiJqb25haC5qYXViZXJ0QGNhcmJvbi5zdXBlciIsImFwcGxpY2F0aW9uIjp7Im93bmVyIjoiam9uYWguamF1YmVydCIsInRpZXJRdW90YVR5cGUiOm51bGwsInRpZXIiOiJVbmxpbWl0ZWQiLCJuYW1lIjoiQ2FsYW1pdHlDYXN0IiwiaWQiOjE5ODgsInV1aWQiOiJhM2UyNzFlNi1kY2Y4LTQ5N2EtYmE2YS1jODQwNTc2ODhjMWMifSwiaXNzIjoiaHR0cHM6XC9cL3BvcnRhaWwtYXBpLm1ldGVvZnJhbmNlLmZyOjQ0M1wvb2F1dGgyXC90b2tlbiIsInRpZXJJbmZvIjp7fSwia2V5dHlwZSI6IlBST0RVQ1RJT04iLCJwZXJtaXR0ZWRSZWZlcmVyIjoiIiwic3Vic2NyaWJlZEFQSXMiOltdLCJleHAiOjE3Nzk1NDI0ODEsInBlcm1pdHRlZElQIjoiIiwiaWF0IjoxNjg0OTM0NDgxLCJqdGkiOiI1MjI0MTI4MS1mZjAzLTQ0MmUtYjBmMy1iOTU5ZTk2MDUwZTgifQ==.M94PG4zbFjETE8JENhilm8ISop3sl0EpNBTiAevde7ujRO9zc9QPdugbF6Oj_fOrDWW6_yuiAe3kfkL8b9JjdfyvY73y31PUfse6KCRH32iotNDMZJKZcDF7nffBnyraDRDvNyI0GuZiE31I4JCJXjkChDyC54s4-6Ku8ePCfpwrBszTj7_Jy2b45XUgY5L1UKNyfbOeeSVp4r0CfJdn0tkCQLX0guR0CoGmDV_YmglErfvcZ2mvqbypi6fPrX0qvfgHsoTJ4s-5QpKA5Al5JSwY7rNZY_OHu6thCZVrXhbU__nK5q0moNnQv5ep7QBCZuJqMbKE5ciyDhS2lhmWYQ=="
   ]
  },
  {
   "cell_type": "code",
   "execution_count": 1,
   "metadata": {},
   "outputs": [],
   "source": [
    "import pandas as pd"
   ]
  },
  {
   "cell_type": "code",
   "execution_count": 12,
   "metadata": {},
   "outputs": [],
   "source": [
    "headers = ['Point','Latitude','Longitude','Contexte','Integration','Saison','APAV','APINT','ARR','APFL90','ARR1MM','APXCWD','APN20MM','APXCDD']"
   ]
  },
  {
   "cell_type": "code",
   "execution_count": 28,
   "metadata": {},
   "outputs": [],
   "source": [
    "data = pd.read_csv('AnomaliePrecip_RCP4.5_saisonnier.csv',  delimiter=';', skiprows=30,header = None)#,  #header=0, names= headers)"
   ]
  },
  {
   "cell_type": "code",
   "execution_count": 29,
   "metadata": {},
   "outputs": [
    {
     "data": {
      "text/html": [
       "<div>\n",
       "<style scoped>\n",
       "    .dataframe tbody tr th:only-of-type {\n",
       "        vertical-align: middle;\n",
       "    }\n",
       "\n",
       "    .dataframe tbody tr th {\n",
       "        vertical-align: top;\n",
       "    }\n",
       "\n",
       "    .dataframe thead th {\n",
       "        text-align: right;\n",
       "    }\n",
       "</style>\n",
       "<table border=\"1\" class=\"dataframe\">\n",
       "  <thead>\n",
       "    <tr style=\"text-align: right;\">\n",
       "      <th></th>\n",
       "      <th>0</th>\n",
       "    </tr>\n",
       "  </thead>\n",
       "  <tbody>\n",
       "    <tr>\n",
       "      <th>0</th>\n",
       "      <td>282;41.4087;9.1577;RCP4.5;H1;1;0.37;0.33;33.11...</td>\n",
       "    </tr>\n",
       "    <tr>\n",
       "      <th>1</th>\n",
       "      <td>282;41.4087;9.1577;RCP4.5;H1;2;-0.4;-0.69;-37....</td>\n",
       "    </tr>\n",
       "    <tr>\n",
       "      <th>2</th>\n",
       "      <td>282;41.4087;9.1577;RCP4.5;H1;3;0.16;0.46;14.58...</td>\n",
       "    </tr>\n",
       "    <tr>\n",
       "      <th>3</th>\n",
       "      <td>282;41.4087;9.1577;RCP4.5;H1;4;-0.23;-0.86;-21...</td>\n",
       "    </tr>\n",
       "    <tr>\n",
       "      <th>4</th>\n",
       "      <td>423;41.4925;8.9759;RCP4.5;H1;1;0.36;0.12;32.21...</td>\n",
       "    </tr>\n",
       "    <tr>\n",
       "      <th>...</th>\n",
       "      <td>...</td>\n",
       "    </tr>\n",
       "    <tr>\n",
       "      <th>103219</th>\n",
       "      <td>18944;51.0497;2.3934;RCP4.5;H3;4;-0.2;0.57;-17...</td>\n",
       "    </tr>\n",
       "    <tr>\n",
       "      <th>103220</th>\n",
       "      <td>18945;51.0496;2.5071;RCP4.5;H3;1;0.27;0.2;24.3...</td>\n",
       "    </tr>\n",
       "    <tr>\n",
       "      <th>103221</th>\n",
       "      <td>18945;51.0496;2.5071;RCP4.5;H3;2;0.25;0.52;23....</td>\n",
       "    </tr>\n",
       "    <tr>\n",
       "      <th>103222</th>\n",
       "      <td>18945;51.0496;2.5071;RCP4.5;H3;3;-0.38;0.11;-3...</td>\n",
       "    </tr>\n",
       "    <tr>\n",
       "      <th>103223</th>\n",
       "      <td>18945;51.0496;2.5071;RCP4.5;H3;4;-0.24;0.47;-2...</td>\n",
       "    </tr>\n",
       "  </tbody>\n",
       "</table>\n",
       "<p>103224 rows × 1 columns</p>\n",
       "</div>"
      ],
      "text/plain": [
       "                                                        0\n",
       "0       282;41.4087;9.1577;RCP4.5;H1;1;0.37;0.33;33.11...\n",
       "1       282;41.4087;9.1577;RCP4.5;H1;2;-0.4;-0.69;-37....\n",
       "2       282;41.4087;9.1577;RCP4.5;H1;3;0.16;0.46;14.58...\n",
       "3       282;41.4087;9.1577;RCP4.5;H1;4;-0.23;-0.86;-21...\n",
       "4       423;41.4925;8.9759;RCP4.5;H1;1;0.36;0.12;32.21...\n",
       "...                                                   ...\n",
       "103219  18944;51.0497;2.3934;RCP4.5;H3;4;-0.2;0.57;-17...\n",
       "103220  18945;51.0496;2.5071;RCP4.5;H3;1;0.27;0.2;24.3...\n",
       "103221  18945;51.0496;2.5071;RCP4.5;H3;2;0.25;0.52;23....\n",
       "103222  18945;51.0496;2.5071;RCP4.5;H3;3;-0.38;0.11;-3...\n",
       "103223  18945;51.0496;2.5071;RCP4.5;H3;4;-0.24;0.47;-2...\n",
       "\n",
       "[103224 rows x 1 columns]"
      ]
     },
     "execution_count": 29,
     "metadata": {},
     "output_type": "execute_result"
    }
   ],
   "source": [
    "data"
   ]
  },
  {
   "cell_type": "code",
>>>>>>> Stashed changes
   "execution_count": null,
   "metadata": {},
   "outputs": [],
   "source": [
    "import pandas as pd"
   ]
  }
 ],
 "metadata": {
  "kernelspec": {
   "display_name": "Python 3",
   "language": "python",
   "name": "python3"
  },
  "language_info": {
   "name": "python",
   "version": "3.-1.-1"
  },
  "orig_nbformat": 4,
  "vscode": {
   "interpreter": {
    "hash": "31f2aee4e71d21fbe5cf8b01ff0e069b9275f58929596ceb00d14d90e3e16cd6"
   }
  }
 },
 "nbformat": 4,
 "nbformat_minor": 2
}
