{
 "cells": [
  {
   "cell_type": "code",
   "execution_count": 1,
   "metadata": {},
   "outputs": [],
   "source": [
    "import requests\n",
    "import csv\n",
    "import time\n",
    "import pandas as pd"
   ]
  },
  {
   "cell_type": "code",
   "execution_count": 2,
   "metadata": {},
   "outputs": [],
   "source": [
    "real_time = \"real_time.csv\""
   ]
  },
  {
   "cell_type": "code",
   "execution_count": 3,
   "metadata": {},
   "outputs": [
    {
     "name": "stdout",
     "output_type": "stream",
     "text": [
      "Import done for 25/05/2023 17:33:00\n"
     ]
    },
    {
     "ename": "KeyboardInterrupt",
     "evalue": "",
     "output_type": "error",
     "traceback": [
      "\u001b[1;31m---------------------------------------------------------------------------\u001b[0m",
      "\u001b[1;31mKeyboardInterrupt\u001b[0m                         Traceback (most recent call last)",
      "\u001b[1;32mc:\\Users\\jonah\\OneDrive - Efrei\\EFREI\\S8\\CalamityCast\\code\\CalamityCast\\weather.ipynb Cell 3\u001b[0m in \u001b[0;36m1\n\u001b[0;32m     <a href='vscode-notebook-cell:/c%3A/Users/jonah/OneDrive%20-%20Efrei/EFREI/S8/CalamityCast/code/CalamityCast/weather.ipynb#W2sZmlsZQ%3D%3D?line=15'>16</a>\u001b[0m \u001b[39mprint\u001b[39m(\u001b[39m\"\u001b[39m\u001b[39mImport done for \u001b[39m\u001b[39m\"\u001b[39m \u001b[39m+\u001b[39m time\u001b[39m.\u001b[39mstrftime(\u001b[39m\"\u001b[39m\u001b[39m%d\u001b[39;00m\u001b[39m/\u001b[39m\u001b[39m%\u001b[39m\u001b[39mm/\u001b[39m\u001b[39m%\u001b[39m\u001b[39mY \u001b[39m\u001b[39m%\u001b[39m\u001b[39mH:\u001b[39m\u001b[39m%\u001b[39m\u001b[39mM:\u001b[39m\u001b[39m%\u001b[39m\u001b[39mS\u001b[39m\u001b[39m\"\u001b[39m))\n\u001b[0;32m     <a href='vscode-notebook-cell:/c%3A/Users/jonah/OneDrive%20-%20Efrei/EFREI/S8/CalamityCast/code/CalamityCast/weather.ipynb#W2sZmlsZQ%3D%3D?line=17'>18</a>\u001b[0m \u001b[39m# Attendre 1 heure avant la prochaine actualisation des données\u001b[39;00m\n\u001b[1;32m---> <a href='vscode-notebook-cell:/c%3A/Users/jonah/OneDrive%20-%20Efrei/EFREI/S8/CalamityCast/code/CalamityCast/weather.ipynb#W2sZmlsZQ%3D%3D?line=18'>19</a>\u001b[0m time\u001b[39m.\u001b[39;49msleep(\u001b[39m60\u001b[39;49m)\n",
      "\u001b[1;31mKeyboardInterrupt\u001b[0m: "
     ]
    }
   ],
   "source": [
    "while True:\n",
    "    url = \"http://www.infoclimat.fr/public-api/gfs/csv?_ll=48.85341,2.3488&_auth=CBIHEAJ8VXcE\\\n",
    "        KQM0UyUBKFgwATQAdgEmBXlXNFg9XyJVPl8%2BAGBSNFQ6UC1XeAM1Ay4FZl5lVWUKYVUtC3lRMAhiB2sCaVUy\\\n",
    "        BGsDZlN8ASpYdgFgACABJgVhVzhYK189VTdfOAB9UjdUPVAsV2YDMgM0BXpeflVsCm9VOgtiUTsIaAdmAmVVNg\\\n",
    "            RuA35TfAEzWG8BZwBqATgFZFdmWDJfblU3Xz8AMlJjVDpQLFdkAzMDMAVkXmNVbgpuVTsLeVEtCBIHEAJ8V\\\n",
    "                XcEKQM0UyUBKFg%2BAT8Aaw%3D%3D&_c=1b2095b366206da4186fecc09eaff692\"\n",
    "\n",
    "    response = requests.get(url)\n",
    "\n",
    "    data = list(csv.reader(response.text.splitlines(), delimiter=';'))\n",
    "\n",
    "    with open(real_time, mode='a', newline='') as file:\n",
    "        writer = csv.writer(file)\n",
    "        writer.writerows(data)\n",
    "\n",
    "    print(\"Import done for \" + time.strftime(\"%d/%m/%Y %H:%M:%S\"))\n",
    "\n",
    "    # Attendre 1 heure avant la prochaine actualisation des données\n",
    "    time.sleep(60)"
   ]
  },
  {
   "cell_type": "code",
   "execution_count": null,
   "metadata": {},
   "outputs": [
    {
     "data": {
      "text/html": [
       "<div>\n",
       "<style scoped>\n",
       "    .dataframe tbody tr th:only-of-type {\n",
       "        vertical-align: middle;\n",
       "    }\n",
       "\n",
       "    .dataframe tbody tr th {\n",
       "        vertical-align: top;\n",
       "    }\n",
       "\n",
       "    .dataframe thead th {\n",
       "        text-align: right;\n",
       "    }\n",
       "</style>\n",
       "<table border=\"1\" class=\"dataframe\">\n",
       "  <thead>\n",
       "    <tr style=\"text-align: right;\">\n",
       "      <th></th>\n",
       "      <th>echeance (heures) :,3,6,9,12,15,18,21,24,27,30,33,36,39,42,45,48,51,54,57,60,63,66,69,72,75,78,81,84,87,90,93,96,99,102,105,108,111,114,117,120,123,126,129,132,135,138,141,144,147,150,153,156,159,162,165,168,171,174,177,180,183,186,189,192</th>\n",
       "    </tr>\n",
       "  </thead>\n",
       "  <tbody>\n",
       "    <tr>\n",
       "      <th>0</th>\n",
       "      <td>echeance (date/heure) :,2023-05-24 05:00:00 UT...</td>\n",
       "    </tr>\n",
       "    <tr>\n",
       "      <th>1</th>\n",
       "      <td>temperature:2m,280.2,281.6,286.8,290.5,291.1,2...</td>\n",
       "    </tr>\n",
       "    <tr>\n",
       "      <th>2</th>\n",
       "      <td>temperature:sol,279.9,280.3,284.4,287.8,289.2,...</td>\n",
       "    </tr>\n",
       "    <tr>\n",
       "      <th>3</th>\n",
       "      <td>temperature:500hPa,-0.1,-0.1,-0.1,-0.1,-0.1,-0...</td>\n",
       "    </tr>\n",
       "    <tr>\n",
       "      <th>4</th>\n",
       "      <td>temperature:850hPa,-0.1,-0.1,-0.1,-0.1,-0.1,-0...</td>\n",
       "    </tr>\n",
       "    <tr>\n",
       "      <th>5</th>\n",
       "      <td>pression:niveau_de_la_mer,102360,102400,102440...</td>\n",
       "    </tr>\n",
       "    <tr>\n",
       "      <th>6</th>\n",
       "      <td>pluie,0,0,0,0,0,0.1,0,0,0.1,0,0,0,0,0,0,0,0,0,...</td>\n",
       "    </tr>\n",
       "    <tr>\n",
       "      <th>7</th>\n",
       "      <td>pluie_convective,0,0,0,0,0,0.1,0,0,0.1,0,0,0,0...</td>\n",
       "    </tr>\n",
       "    <tr>\n",
       "      <th>8</th>\n",
       "      <td>humidite:2m,87.7,75.9,49.8,40.4,49.2,68.7,78.2...</td>\n",
       "    </tr>\n",
       "    <tr>\n",
       "      <th>9</th>\n",
       "      <td>nebulosite:totale,87.5,93.6,100,89.9,37.4,56.2...</td>\n",
       "    </tr>\n",
       "    <tr>\n",
       "      <th>10</th>\n",
       "      <td>nebulosite:haute,0,0,0,0,0,0,0,0,0,0,0,0,0,0,0...</td>\n",
       "    </tr>\n",
       "    <tr>\n",
       "      <th>11</th>\n",
       "      <td>nebulosite:moyenne,0,0,0,0,0,0,0,0,0,0,0,0,0,0...</td>\n",
       "    </tr>\n",
       "    <tr>\n",
       "      <th>12</th>\n",
       "      <td>nebulosite:basse,0,0,0,0,0,0,0,0,0,0,0,0,0,0,0...</td>\n",
       "    </tr>\n",
       "    <tr>\n",
       "      <th>13</th>\n",
       "      <td>cape,0,0,0,0,0,0,0,0,0,0,0,0,0,0,0,0,0,0,0,0,0...</td>\n",
       "    </tr>\n",
       "    <tr>\n",
       "      <th>14</th>\n",
       "      <td>iso_zero,2770.7,2930.2,2830.4,2595.8,2056,3172...</td>\n",
       "    </tr>\n",
       "    <tr>\n",
       "      <th>15</th>\n",
       "      <td>risque_neige,0,0,0,0,0,0,0,0,0,0,0,0,0,0,0,0,0...</td>\n",
       "    </tr>\n",
       "    <tr>\n",
       "      <th>16</th>\n",
       "      <td>vent_moyen:10m,13.3,14.8,18,17.4,19.2,17.6,11....</td>\n",
       "    </tr>\n",
       "    <tr>\n",
       "      <th>17</th>\n",
       "      <td>vent_rafales:10m,36.8,34.3,27.4,25.4,24.9,29.7...</td>\n",
       "    </tr>\n",
       "    <tr>\n",
       "      <th>18</th>\n",
       "      <td>vent_direction:10m,379,388,401,405,386,379,385...</td>\n",
       "    </tr>\n",
       "  </tbody>\n",
       "</table>\n",
       "</div>"
      ],
      "text/plain": [
       "   echeance (heures) :,3,6,9,12,15,18,21,24,27,30,33,36,39,42,45,48,51,54,57,60,63,66,69,72,75,78,81,84,87,90,93,96,99,102,105,108,111,114,117,120,123,126,129,132,135,138,141,144,147,150,153,156,159,162,165,168,171,174,177,180,183,186,189,192\n",
       "0   echeance (date/heure) :,2023-05-24 05:00:00 UT...                                                                                                                                                                                             \n",
       "1   temperature:2m,280.2,281.6,286.8,290.5,291.1,2...                                                                                                                                                                                             \n",
       "2   temperature:sol,279.9,280.3,284.4,287.8,289.2,...                                                                                                                                                                                             \n",
       "3   temperature:500hPa,-0.1,-0.1,-0.1,-0.1,-0.1,-0...                                                                                                                                                                                             \n",
       "4   temperature:850hPa,-0.1,-0.1,-0.1,-0.1,-0.1,-0...                                                                                                                                                                                             \n",
       "5   pression:niveau_de_la_mer,102360,102400,102440...                                                                                                                                                                                             \n",
       "6   pluie,0,0,0,0,0,0.1,0,0,0.1,0,0,0,0,0,0,0,0,0,...                                                                                                                                                                                             \n",
       "7   pluie_convective,0,0,0,0,0,0.1,0,0,0.1,0,0,0,0...                                                                                                                                                                                             \n",
       "8   humidite:2m,87.7,75.9,49.8,40.4,49.2,68.7,78.2...                                                                                                                                                                                             \n",
       "9   nebulosite:totale,87.5,93.6,100,89.9,37.4,56.2...                                                                                                                                                                                             \n",
       "10  nebulosite:haute,0,0,0,0,0,0,0,0,0,0,0,0,0,0,0...                                                                                                                                                                                             \n",
       "11  nebulosite:moyenne,0,0,0,0,0,0,0,0,0,0,0,0,0,0...                                                                                                                                                                                             \n",
       "12  nebulosite:basse,0,0,0,0,0,0,0,0,0,0,0,0,0,0,0...                                                                                                                                                                                             \n",
       "13  cape,0,0,0,0,0,0,0,0,0,0,0,0,0,0,0,0,0,0,0,0,0...                                                                                                                                                                                             \n",
       "14  iso_zero,2770.7,2930.2,2830.4,2595.8,2056,3172...                                                                                                                                                                                             \n",
       "15  risque_neige,0,0,0,0,0,0,0,0,0,0,0,0,0,0,0,0,0...                                                                                                                                                                                             \n",
       "16  vent_moyen:10m,13.3,14.8,18,17.4,19.2,17.6,11....                                                                                                                                                                                             \n",
       "17  vent_rafales:10m,36.8,34.3,27.4,25.4,24.9,29.7...                                                                                                                                                                                             \n",
       "18  vent_direction:10m,379,388,401,405,386,379,385...                                                                                                                                                                                             "
      ]
     },
     "execution_count": 35,
     "metadata": {},
     "output_type": "execute_result"
    }
   ],
   "source": [
    "pd.read_csv(real_time, skiprows = 4, sep = ',')"
   ]
  },
  {
   "cell_type": "code",
   "execution_count": null,
   "metadata": {},
   "outputs": [],
   "source": []
  }
 ],
 "metadata": {
  "kernelspec": {
   "display_name": "Python 3",
   "language": "python",
   "name": "python3"
  },
  "language_info": {
   "codemirror_mode": {
    "name": "ipython",
    "version": 3
   },
   "file_extension": ".py",
   "mimetype": "text/x-python",
   "name": "python",
   "nbconvert_exporter": "python",
   "pygments_lexer": "ipython3",
   "version": "3.10.8"
  },
  "orig_nbformat": 4
 },
 "nbformat": 4,
 "nbformat_minor": 2
}
